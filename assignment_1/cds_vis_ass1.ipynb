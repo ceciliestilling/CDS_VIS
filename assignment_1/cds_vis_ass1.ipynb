{
 "cells": [
  {
   "cell_type": "code",
   "execution_count": 2,
   "id": "378ef003-6bb1-4282-9bf2-11203b5d1e57",
   "metadata": {
    "execution": {
     "iopub.execute_input": "2022-03-09T07:37:36.018378Z",
     "iopub.status.busy": "2022-03-09T07:37:36.017585Z",
     "iopub.status.idle": "2022-03-09T07:37:36.454358Z",
     "shell.execute_reply": "2022-03-09T07:37:36.452989Z",
     "shell.execute_reply.started": "2022-03-09T07:37:36.018323Z"
    },
    "tags": []
   },
   "outputs": [],
   "source": [
    "import os\n",
    "import sys\n",
    "sys.path.append(os.path.join(\"..\", \"..\",\"CDS-VIS\"))\n",
    "import cv2\n",
    "import numpy as np\n",
    "import pandas as pd\n",
    "from pathlib import Path\n",
    "from utils.imutils import jimshow\n",
    "from utils.imutils import jimshow_channel\n",
    "import matplotlib.pyplot as plt\n",
    "from PIL import Image"
   ]
  },
  {
   "cell_type": "code",
   "execution_count": 16,
   "id": "38e59df3-5331-4034-be47-44684d86caff",
   "metadata": {
    "execution": {
     "iopub.execute_input": "2022-03-09T08:13:41.237504Z",
     "iopub.status.busy": "2022-03-09T08:13:41.236968Z",
     "iopub.status.idle": "2022-03-09T08:13:41.255340Z",
     "shell.execute_reply": "2022-03-09T08:13:41.254602Z",
     "shell.execute_reply.started": "2022-03-09T08:13:41.237434Z"
    },
    "tags": []
   },
   "outputs": [],
   "source": [
    "def main():\n",
    "    \n",
    "    # filepath\n",
    "    flower_dir = os.path.join(\"..\", \"..\", \"CDS-VIS\", \"flowers\")\n",
    "    \n",
    "    results_dir = os.path.join(\"..\", \"..\", \"CDS_VIS_CS\", \"Assignment\", \"Results\")\n",
    "\n",
    "    # specify target image\n",
    "    target_name = \"image_0001.jpg\"\n",
    "\n",
    "    # empty dataframe to save data\n",
    "    data = pd.DataFrame(columns=[\"target\",\"filename\", \"distance\"])\n",
    "    \n",
    "    # read target image\n",
    "    target_image = cv2.imread(os.path.join(\"..\", \"..\", \"CDS-VIS\", \"flowers\", \"image_0001.jpg\"))\n",
    "    # create histogram for all 3 color channels\n",
    "    target_hist = cv2.calcHist([target_image], [0,1,2], None, [8,8,8], [0,256, 0,256, 0,256])\n",
    "    # normalise the histogram\n",
    "    target_hist_norm = cv2.normalize(target_hist, target_hist, 0,255, cv2.NORM_MINMAX)\n",
    "    \n",
    "    # for each image (ending with .jpg) in the directory\n",
    "    for image_path in Path(flower_dir).glob(\"*.jpg\"):\n",
    "        # only get the image name by splitting the image_path (using dummy variable _)\n",
    "        _, image = os.path.split(image_path)\n",
    "        # if the image is not the target image\n",
    "        if image != target_name:\n",
    "            # read the image and save as comparison image\n",
    "            comparison_image = cv2.imread(os.path.join(\"..\", \"..\", \"CDS-VIS\", \"flowers\", image))\n",
    "            # create histogram for comparison image\n",
    "            comparison_hist = cv2.calcHist([comparison_image], [0,1,2], None, [8,8,8], [0,256, 0,256, 0,256])\n",
    "            # normalise the comparison image histogram\n",
    "            comparison_hist_norm = cv2.normalize(comparison_hist, comparison_hist, 0,255, cv2.NORM_MINMAX)    \n",
    "            # calculate the chi-square distance\n",
    "            distance = round(cv2.compareHist(target_hist_norm, comparison_hist_norm, cv2.HISTCMP_CHISQR), 2)\n",
    "            # append info to dataframe\n",
    "            data = data.append({\"target\": target_name,\n",
    "                                \"filename\": image, \n",
    "                                \"distance\": distance}, ignore_index = True)\n",
    "    \n",
    "        # sort values based on distance to target image\n",
    "        data = data.sort_values(\"distance\")\n",
    "        # Only keep top 3\n",
    "        data = data.iloc[:3]\n",
    "        # save as csv in current directory\n",
    "        data.to_csv(f\"{target_name}_comparison.csv\") \n",
    "    \n",
    "    # THE REST OF THE CODE IS RELATED TO THE CREATION OF THE IMAGE\n",
    "    # THERE ARE DIFFERENT CODE SNIPPETS AND THEY DON'T ALL GO TOGETHER\n",
    "    # I JUST DID NOT WANT TO DELETE ANYTHING FOR NOW - JUST DISREGARD IT\n",
    "    \n",
    "    #w0 = target_image.shape[1]\n",
    "    #comp_1 = cv2.imread(os.path.join(\"..\", \"..\", \"CDS-VIS\", \"flowers\", data[\"filename\"][0]))\n",
    "    #w1 = comp_1.shape[1]\n",
    "    #comp_2 = cv2.imread(os.path.join(\"..\", \"..\", \"CDS-VIS\", \"flowers\", data[\"filename\"][1]))\n",
    "    #w2 = comp_2.shape[1]\n",
    "    #comp_3 = cv2.imread(os.path.join(\"..\", \"..\", \"CDS-VIS\", \"flowers\", data[\"filename\"][2]))\n",
    "    #w3 = comp_3.shape[1]\n",
    "    \n",
    "    #target_image_size = target_image.size\n",
    "    #comp_1_size = comp_1.size\n",
    "    #comp_2_size = comp_2.size\n",
    "    #comp_3_size = comp_3.size\n",
    "    \n",
    "    #result_image = np.concatenate((comp_1_size, comp_2_size, comp_3_size), axis=1)\n",
    "    #comp_1.resize(comp_1, comp_1, target_image.size())\n",
    "    #comp_2.cvresize(comp_2, comp_2, target_image.size())\n",
    "    #comp_3.cvresize(comp_3, comp_3, target_image.size())\n",
    "    \n",
    "    #result_hor = np.hstack((comp_1, comp_2, comp_3))\n",
    "    \n",
    "    #results_all = np.vstack((target_image, result_hor))\n",
    "\n",
    "    # get maximum width\n",
    "    #ww = max(w0, w1, w2, w3)\n",
    "\n",
    "    # pad images with transparency in width\n",
    "    #target_image = cv2.cvtColor(target_image, cv2.COLOR_BGR2BGRA)\n",
    "    #comp_1 = cv2.cvtColor(comp_1, cv2.COLOR_BGR2BGRA)\n",
    "    #comp_2 = cv2.cvtColor(comp_2, cv2.COLOR_BGR2BGRA)\n",
    "    #comp_3 = cv2.cvtColor(comp_3, cv2.COLOR_BGR2BGRA)\n",
    "    #target_image = cv2.copyMakeBorder(target_image, 0, 0, 0, ww-w1, borderType=cv2.BORDER_CONSTANT, value=(0,0,0,0))\n",
    "    #comp_1 = cv2.copyMakeBorder(comp_1, 0, 0, 0, ww-w1, borderType=cv2.BORDER_CONSTANT, value=(0,0,0,0))\n",
    "    #comp_2 = cv2.copyMakeBorder(comp_2, 0, 0, 0, ww-w2, borderType=cv2.BORDER_CONSTANT, value=(0,0,0,0))\n",
    "    #comp_3 = cv2.copyMakeBorder(comp_3, 0, 0, 0, ww-w3, borderType=cv2.BORDER_CONSTANT, value=(0,0,0,0))\n",
    "\n",
    "    # stack images \n",
    "    #result = cv2.hconcat([target_image, comp_1, comp_2, comp_3])\n",
    "\n",
    "    # write result to disk\n",
    "    #cv2.imwrite(\"image_stack.png\", result)\n",
    "\n",
    "    #cv2.imshow(\"RESULT\", result)\n",
    "    \n",
    "    \n",
    "    #result_image = target_image.new('RGB', (2*target_image_size[0],2*target_image_size[1]), (250,250,250))\n",
    "    #result_image = np.zeros(shape=[512, 512, 3], dtype=np.uint8)\n",
    "    \n",
    "    #result_image.paste(target_image, (0,0))\n",
    "    #result_image.paste(comp_1, (target_image_size[0],0))\n",
    "    #result_image.paste(comp_2, (0,target_image_size[1]))\n",
    "    #result_image.paste(comp_3, (target_image_size[0],target_image_size[1]))\n",
    "    \n",
    "    #result_image.save(\"result_image.jpg\", \"JPG\")\n",
    "    #result_image.show()\n",
    "    #cv2.imwrite('result_image.png', result_all)"
   ]
  },
  {
   "cell_type": "code",
   "execution_count": 17,
   "id": "9efe497f-9785-4e3f-a037-fabcef503a51",
   "metadata": {
    "execution": {
     "iopub.execute_input": "2022-03-09T08:13:42.849702Z",
     "iopub.status.busy": "2022-03-09T08:13:42.849159Z",
     "iopub.status.idle": "2022-03-09T08:14:56.397980Z",
     "shell.execute_reply": "2022-03-09T08:14:56.395943Z",
     "shell.execute_reply.started": "2022-03-09T08:13:42.849651Z"
    },
    "tags": []
   },
   "outputs": [],
   "source": [
    "main()"
   ]
  },
  {
   "cell_type": "code",
   "execution_count": 43,
   "id": "de246bb1-7228-4238-a67a-60ccd625f1b2",
   "metadata": {
    "execution": {
     "iopub.execute_input": "2022-03-08T14:03:58.663053Z",
     "iopub.status.busy": "2022-03-08T14:03:58.662465Z",
     "iopub.status.idle": "2022-03-08T14:03:58.671244Z",
     "shell.execute_reply": "2022-03-08T14:03:58.670020Z",
     "shell.execute_reply.started": "2022-03-08T14:03:58.662997Z"
    },
    "tags": []
   },
   "outputs": [],
   "source": [
    "\n"
   ]
  }
 ],
 "metadata": {
  "kernelspec": {
   "display_name": "Python 3 ",
   "language": "python",
   "name": "python3"
  },
  "language_info": {
   "codemirror_mode": {
    "name": "ipython",
    "version": 3
   },
   "file_extension": ".py",
   "mimetype": "text/x-python",
   "name": "python",
   "nbconvert_exporter": "python",
   "pygments_lexer": "ipython3",
   "version": "3.9.6"
  }
 },
 "nbformat": 4,
 "nbformat_minor": 5
}
